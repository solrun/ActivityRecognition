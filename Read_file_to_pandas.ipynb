{
 "cells": [
  {
   "cell_type": "code",
   "execution_count": 1,
   "id": "da014a05",
   "metadata": {},
   "outputs": [],
   "source": [
    "import os \n",
    "import numpy as np\n",
    "import torch\n",
    "import torch.nn as nn\n",
    "import pandas as pd\n"
   ]
  },
  {
   "cell_type": "code",
   "execution_count": 2,
   "id": "ad9228b3",
   "metadata": {},
   "outputs": [],
   "source": [
    "data = pd.read_csv('running/Running.txt', header=None)\n"
   ]
  },
  {
   "cell_type": "code",
   "execution_count": 3,
   "id": "9fb4fc6d",
   "metadata": {},
   "outputs": [],
   "source": [
    "\n",
    "def structure_file(df):\n",
    "    df = df[0].str.split('\\t', n=4, expand=True)\n",
    "\n",
    "    df.columns = [\"time\", \"sensor\", \"x\", \"y\", \"z\"]\n",
    "\n",
    "    GYR_data = df.loc[df['sensor'] == 'GYR']\n",
    "    ACC_data = df.loc[df['sensor'] == 'ACC']\n",
    "\n",
    "    GYR_data.index = GYR_data['time'].apply(pd.to_numeric)\n",
    "    ACC_data.index = ACC_data['time'].apply(pd.to_numeric)\n",
    "    GYR_data = GYR_data.drop('sensor', axis=1)\n",
    "    ACC_data = ACC_data.drop('sensor', axis=1)\n",
    "    GYR_data.columns = ['time_gyr', \"gyr_x\", \"gyr_y\", \"gyr_z\"]\n",
    "    ACC_data.columns = ['time_acc', \"acc_x\", \"acc_y\", \"acc_z\"]\n",
    "    min_idx = np.argmin([ACC_data.shape[0], GYR_data.shape[0]]) \n",
    "    max_idx = np.argmax([ACC_data.shape[0], GYR_data.shape[0]])  \n",
    "\n",
    "    data_acc_gyr = [ACC_data, GYR_data] \n",
    "    data_acc_gyr[max_idx] = data_acc_gyr[max_idx].reindex(data_acc_gyr[min_idx].index, method='nearest', tolerance=0.02)\n",
    "    new_set = pd.concat(data_acc_gyr, axis=1)\n",
    "    new_set2 = new_set.dropna().reset_index(drop=True)\n",
    "    return new_set2"
   ]
  },
  {
   "cell_type": "code",
   "execution_count": 4,
   "id": "f7b3ac29",
   "metadata": {},
   "outputs": [
    {
     "name": "stdout",
     "output_type": "stream",
     "text": [
      "       time_acc        acc_x       acc_y       acc_z   time_gyr         gyr_x  \\\n",
      "0     499122863    1.9919758  -13.781324   18.273146  499122863     -4.984737   \n",
      "1     499122873    3.9959226  -13.398252   16.156672  499122873    -3.9578724   \n",
      "2     499122883    5.3537345  -12.797307   15.321095  499122883    -3.0037007   \n",
      "3     499122893     7.166145   -9.368811  14.4253645  499122893     -2.305482   \n",
      "4     499122903    4.4819455  -6.2826843    9.016863  499122903      -2.09229   \n",
      "...         ...          ...         ...         ...        ...           ...   \n",
      "4227  499165132  -0.78050977    5.585972    7.728782  499165132   -0.20288362   \n",
      "4228  499165142   -1.0342951    5.456685    7.774272  499165142   -0.18944459   \n",
      "4229  499165152   -1.1875241   5.5069633    8.095096  499165152   -0.16134478   \n",
      "4230  499165162    -1.091756   5.6649804     8.24593  499165162  -0.114308156   \n",
      "4231  499165172     -1.30484   5.5332994    8.346486  499165172   -0.06543894   \n",
      "\n",
      "           gyr_y        gyr_z  \n",
      "0      1.1984413   -0.1866957  \n",
      "1     0.18623754  -0.41577014  \n",
      "2     -0.3048981   -0.5831472  \n",
      "3     0.45868343   -0.5855907  \n",
      "4      1.9094884  -0.58986676  \n",
      "...          ...          ...  \n",
      "4227  0.76778126   0.09002627  \n",
      "4228   0.7903833   0.08697194  \n",
      "4229  0.68164927   0.10529789  \n",
      "4230  0.51854825   0.10163271  \n",
      "4231   0.3450625  0.115071744  \n",
      "\n",
      "[4232 rows x 8 columns]\n"
     ]
    }
   ],
   "source": [
    "print(structure_file(data))"
   ]
  },
  {
   "cell_type": "code",
   "execution_count": null,
   "id": "e874e77b",
   "metadata": {},
   "outputs": [],
   "source": []
  }
 ],
 "metadata": {
  "kernelspec": {
   "display_name": "Python 3 (ipykernel)",
   "language": "python",
   "name": "python3"
  },
  "language_info": {
   "codemirror_mode": {
    "name": "ipython",
    "version": 3
   },
   "file_extension": ".py",
   "mimetype": "text/x-python",
   "name": "python",
   "nbconvert_exporter": "python",
   "pygments_lexer": "ipython3",
   "version": "3.10.4"
  }
 },
 "nbformat": 4,
 "nbformat_minor": 5
}
